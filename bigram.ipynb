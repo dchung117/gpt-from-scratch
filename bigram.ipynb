{
 "cells": [
  {
   "cell_type": "code",
   "execution_count": 24,
   "metadata": {},
   "outputs": [
    {
     "name": "stdout",
     "output_type": "stream",
     "text": [
      "The autoreload extension is already loaded. To reload it, use:\n",
      "  %reload_ext autoreload\n"
     ]
    }
   ],
   "source": [
    "import pathlib\n",
    "import torch\n",
    "from torch.utils.data import DataLoader\n",
    "\n",
    "from gpt_builder.tokenizer import Tokenizer\n",
    "from gpt_builder.dataset import BigramDataset\n",
    "from gpt_builder.model import BigramLLM\n",
    "from gpt_builder.utils import bigram_crossentropy_loss, train_step\n",
    "\n",
    "%load_ext autoreload\n",
    "%autoreload 2"
   ]
  },
  {
   "cell_type": "markdown",
   "metadata": {},
   "source": [
    "# Read in raw text"
   ]
  },
  {
   "cell_type": "code",
   "execution_count": 2,
   "metadata": {},
   "outputs": [
    {
     "name": "stdout",
     "output_type": "stream",
     "text": [
      "Text length:  232284\n",
      "DOROTHY AND THE WIZARD IN OZ\n",
      "\n",
      "BY\n",
      "\n",
      "L. FRANK BAUM\n",
      "\n",
      "AUTHOR OF THE WIZARD OF OZ, THE LAND OF OZ, OZMA OF OZ, ETC.\n",
      "\n",
      "ILLUSTRATED BY JOHN R. NEILL\n",
      "\n",
      "BOOKS OF WONDER WILLIAM MORROW & CO., INC. NEW YORK\n",
      "\n",
      "\n",
      "[Illu\n"
     ]
    }
   ],
   "source": [
    "data_dir = pathlib.Path(\"data\")\n",
    "with open(data_dir / \"wizard_of_oz.txt\", \"r\", encoding=\"utf-8\") as f:\n",
    "    text = f.read()\n",
    "print(\"Text length: \", len(text))\n",
    "print(text[:200])"
   ]
  },
  {
   "cell_type": "markdown",
   "metadata": {},
   "source": [
    "# Create tokenizer"
   ]
  },
  {
   "cell_type": "code",
   "execution_count": 3,
   "metadata": {},
   "outputs": [
    {
     "name": "stdout",
     "output_type": "stream",
     "text": [
      "Number of unique characters:  80\n",
      "['\\n', ' ', '!', '\"', '&', \"'\", '(', ')', '*', ',', '-', '.', '0', '1', '2', '3', '4', '5', '6', '7', '8', '9', ':', ';', '?', 'A', 'B', 'C', 'D', 'E', 'F', 'G', 'H', 'I', 'J', 'K', 'L', 'M', 'N', 'O', 'P', 'Q', 'R', 'S', 'T', 'U', 'V', 'W', 'X', 'Y', 'Z', '[', ']', '_', 'a', 'b', 'c', 'd', 'e', 'f', 'g', 'h', 'i', 'j', 'k', 'l', 'm', 'n', 'o', 'p', 'q', 'r', 's', 't', 'u', 'v', 'w', 'x', 'y', 'z']\n"
     ]
    }
   ],
   "source": [
    "# Get unique characters\n",
    "chars = sorted(set(text))\n",
    "print(\"Number of unique characters: \", len(chars))\n",
    "print(chars)"
   ]
  },
  {
   "cell_type": "code",
   "execution_count": 4,
   "metadata": {},
   "outputs": [
    {
     "name": "stdout",
     "output_type": "stream",
     "text": [
      "Encoded hello:  [32, 58, 65, 65, 68]\n",
      "Decoded hello:  Hello\n"
     ]
    }
   ],
   "source": [
    "tokenizer = Tokenizer(chars)\n",
    "hello_tokens = tokenizer.encode(\"Hello\")\n",
    "print(\"Encoded hello: \", hello_tokens)\n",
    "hello_decoded = \"\".join(tokenizer.decode(hello_tokens))\n",
    "print(\"Decoded hello: \", hello_decoded)"
   ]
  },
  {
   "cell_type": "code",
   "execution_count": 5,
   "metadata": {},
   "outputs": [
    {
     "name": "stdout",
     "output_type": "stream",
     "text": [
      "tensor([28, 39, 42, 39, 44, 32, 49,  1, 25, 38, 28,  1, 44, 32, 29,  1, 47, 33,\n",
      "        50, 25, 42, 28,  1, 33, 38,  1, 39, 50,  0,  0, 26, 49,  0,  0, 36, 11,\n",
      "         1, 30, 42, 25, 38, 35,  1, 26, 25, 45, 37,  0,  0, 25, 45, 44, 32, 39,\n",
      "        42,  1, 39, 30,  1, 44, 32, 29,  1, 47, 33, 50, 25, 42, 28,  1, 39, 30,\n",
      "         1, 39, 50,  9,  1, 44, 32, 29,  1, 36, 25, 38, 28,  1, 39, 30,  1, 39,\n",
      "        50,  9,  1, 39, 50, 37, 25,  1, 39, 30,  1, 39, 50,  9,  1, 29, 44, 27,\n",
      "        11,  0,  0, 33, 36, 36, 45, 43, 44, 42, 25, 44, 29, 28,  1, 26, 49,  1,\n",
      "        34, 39, 32, 38,  1, 42, 11,  1, 38, 29, 33, 36, 36,  0,  0, 26, 39, 39,\n",
      "        35, 43,  1, 39, 30,  1, 47, 39, 38, 28, 29, 42,  1, 47, 33, 36, 36, 33,\n",
      "        25, 37,  1, 37, 39, 42, 42, 39, 47,  1,  4,  1, 27, 39, 11,  9,  1, 33,\n",
      "        38, 27, 11,  1, 38, 29, 47,  1, 49, 39, 42, 35,  0,  0,  0, 51, 33, 65,\n",
      "        65, 74])\n"
     ]
    }
   ],
   "source": [
    "# Tokenize Wizard of Oz\n",
    "data = tokenizer.encode(text, return_tensors=True)\n",
    "print(data[:200])"
   ]
  },
  {
   "cell_type": "markdown",
   "metadata": {},
   "source": [
    "# Create Bigram dataset"
   ]
  },
  {
   "cell_type": "code",
   "execution_count": 6,
   "metadata": {},
   "outputs": [
    {
     "name": "stdout",
     "output_type": "stream",
     "text": [
      "In bigram:  tensor([28, 39, 42, 39, 44, 32, 49,  1])\n",
      "Out bigram:  tensor([39, 42, 39, 44, 32, 49,  1, 25])\n"
     ]
    }
   ],
   "source": [
    "dataset = BigramDataset(data)\n",
    "in_bigram, out_bigram = dataset[0]\n",
    "print(\"In bigram: \", in_bigram)\n",
    "print(\"Out bigram: \", out_bigram)"
   ]
  },
  {
   "cell_type": "markdown",
   "metadata": {},
   "source": [
    "# Examine model"
   ]
  },
  {
   "cell_type": "code",
   "execution_count": 28,
   "metadata": {},
   "outputs": [
    {
     "data": {
      "text/plain": [
       "torch.Size([8, 80])"
      ]
     },
     "execution_count": 28,
     "metadata": {},
     "output_type": "execute_result"
    }
   ],
   "source": [
    "vocab_size = len(chars)\n",
    "device = torch.device(\"cuda:0\" if torch.cuda.is_available() else \"cpu\")\n",
    "llm = BigramLLM(vocab_size).to(device)\n",
    "x_out = llm(in_bigram.to(device))\n",
    "x_out.shape"
   ]
  },
  {
   "cell_type": "code",
   "execution_count": 8,
   "metadata": {},
   "outputs": [
    {
     "data": {
      "text/plain": [
       "tensor(5.1492, grad_fn=<NllLossBackward0>)"
      ]
     },
     "execution_count": 8,
     "metadata": {},
     "output_type": "execute_result"
    }
   ],
   "source": [
    "# Compute cros entropy lloss\n",
    "bigram_crossentropy_loss(x_out, out_bigram)"
   ]
  },
  {
   "cell_type": "code",
   "execution_count": 29,
   "metadata": {},
   "outputs": [],
   "source": [
    "# Generate new tokens\n",
    "llm.eval()\n",
    "x_new = llm.generate(in_bigram.to(device), 10)"
   ]
  },
  {
   "cell_type": "code",
   "execution_count": 30,
   "metadata": {},
   "outputs": [
    {
     "name": "stdout",
     "output_type": "stream",
     "text": [
      "Context:  ['D', 'O', 'R', 'O', 'T', 'H', 'Y', ' ']\n",
      "New sequence:  ['D', 'O', 'R', 'O', 'T', 'H', 'Y', ' ', 'c', ':', 'k', '4', 'p', '!', 's', 'y', 'a', '3']\n"
     ]
    }
   ],
   "source": [
    "# Decode new sequence\n",
    "print(\"Context: \", tokenizer.decode(in_bigram.tolist()))\n",
    "print(\"New sequence: \", tokenizer.decode(x_new[0].cpu().tolist()))"
   ]
  },
  {
   "cell_type": "markdown",
   "metadata": {},
   "source": [
    "## Training loop"
   ]
  },
  {
   "cell_type": "code",
   "execution_count": 32,
   "metadata": {},
   "outputs": [
    {
     "name": "stdout",
     "output_type": "stream",
     "text": [
      "Loss:  4.894145488739014\n",
      "Loss:  4.893566131591797\n",
      "Loss:  4.892986297607422\n",
      "Loss:  4.892405986785889\n",
      "Loss:  4.89182710647583\n"
     ]
    }
   ],
   "source": [
    "N_ITERS = 5\n",
    "LEARNING_RATE = 3e-4\n",
    "\n",
    "train_dl = DataLoader(dataset, batch_size=64)\n",
    "optim = torch.optim.AdamW(llm.parameters(), lr=LEARNING_RATE)\n",
    "\n",
    "for _ in range(N_ITERS):\n",
    "    inputs, targets = next(iter(train_dl))\n",
    "    inputs, targets = inputs.to(device), targets.to(device)\n",
    "    train_step(llm, inputs, targets, optim)"
   ]
  },
  {
   "cell_type": "code",
   "execution_count": null,
   "metadata": {},
   "outputs": [],
   "source": []
  }
 ],
 "metadata": {
  "kernelspec": {
   "display_name": "Python 3",
   "language": "python",
   "name": "python3"
  },
  "language_info": {
   "codemirror_mode": {
    "name": "ipython",
    "version": 3
   },
   "file_extension": ".py",
   "mimetype": "text/x-python",
   "name": "python",
   "nbconvert_exporter": "python",
   "pygments_lexer": "ipython3",
   "version": "3.11.5"
  }
 },
 "nbformat": 4,
 "nbformat_minor": 2
}
